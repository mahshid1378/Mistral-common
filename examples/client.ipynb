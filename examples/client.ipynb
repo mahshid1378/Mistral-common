{
 "cells": [
  {
   "cell_type": "code",
   "execution_count": null,
   "id": "0367aa61",
   "metadata": {},
   "outputs": [],
   "source": [
    "! pip install mistral-common \n",
    "! pip install mistralai"
   ]
  },
  {
   "cell_type": "code",
   "execution_count": null,
   "id": "1b72699d-f28b-47fb-920a-b571364cca4a",
   "metadata": {},
   "outputs": [
    {
     "name": "stdout",
     "output_type": "stream",
     "text": [
      "\n",
      "Tokens calculated: 135\n",
      "Prompt tokens calculated in API: 135\n"
     ]
    }
   ],
   "source": [
    "from mistral_common.tokens.tokenizers.mistral import MistralTokenizer\n",
    "from mistral_common.protocol.instruct.request import ChatCompletionRequest\n",
    "from mistral_common.protocol.instruct.messages import UserMessage\n",
    "from mistral_common.protocol.instruct.tool_calls import Tool, Function\n",
    "\n",
    "from mistralai.client import MistralClient\n",
    "\n",
    "\n",
    "client = MistralClient(api_key=\"YOUR_API_KEY\")\n",
    "\n",
    "tokenizer_v3 = MistralTokenizer.v3()\n",
    "\n",
    "request = ChatCompletionRequest(\n",
    "          tools=[\n",
    "              Tool(\n",
    "                  function=Function(\n",
    "                      name=\"get_current_weather\",\n",
    "                      description=\"Get the current weather\",\n",
    "                      parameters={\n",
    "                          \"type\": \"object\",\n",
    "                          \"properties\": {\n",
    "                              \"location\": {\n",
    "                                  \"type\": \"string\",\n",
    "                                  \"description\": \"The city and state, e.g. San Francisco, CA\",\n",
    "                              },\n",
    "                              \"format\": {\n",
    "                                  \"type\": \"string\",\n",
    "                                  \"enum\": [\"celsius\", \"fahrenheit\"],\n",
    "                                  \"description\": \"The temperature unit to use. Infer this from the user's location.\",\n",
    "                              },\n",
    "                          },\n",
    "                          \"required\": [\"location\", \"format\"],\n",
    "                      },\n",
    "                  )\n",
    "              )\n",
    "          ],\n",
    "          messages=[\n",
    "              UserMessage(content=\"What's the weather like today in Paris\"),\n",
    "          ],\n",
    "          model=\"open-mixtral-8x22b\",\n",
    "    )\n",
    "\n",
    "# Calculate tokens\n",
    "tokenized = tokenizer_v3.encode_chat_completion(request)\n",
    "tokens, text = tokenized.tokens, tokenized.text\n",
    "\n",
    "response = client.chat(**request.model_dump())\n",
    "\n",
    "print(f\"Tokens calculated: {len(tokens)}\")\n",
    "print(f\"Prompt tokens calculated in API: {response.usage.prompt_tokens}\")"
   ]
  }
 ],
 "metadata": {
  "kernelspec": {
   "display_name": "Python 3 (ipykernel)",
   "language": "python",
   "name": "python3"
  },
  "language_info": {
   "codemirror_mode": {
    "name": "ipython",
    "version": 3
   },
   "file_extension": ".py",
   "mimetype": "text/x-python",
   "name": "python",
   "nbconvert_exporter": "python",
   "pygments_lexer": "ipython3",
   "version": "3.10.0"
  }
 },
 "nbformat": 4,
 "nbformat_minor": 5
}
